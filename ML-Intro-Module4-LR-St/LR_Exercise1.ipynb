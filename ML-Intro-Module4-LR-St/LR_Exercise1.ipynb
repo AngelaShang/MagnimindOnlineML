{
 "cells": [
  {
   "cell_type": "markdown",
   "metadata": {},
   "source": [
    "## Regression on California House prices"
   ]
  },
  {
   "cell_type": "markdown",
   "metadata": {},
   "source": [
    "You can load the California housing dataset using sklearn.datasets.fetch_california_housing. You can find a description of the data here: http://www.dcc.fc.up.pt/~ltorgo/Regression/cal_housing.html\n"
   ]
  },
  {
   "cell_type": "markdown",
   "metadata": {},
   "source": [
    "1.1 Visualize the univariate distribution of each feature, and the distribution of the target. Do you notice anything? Is something that you think might require special treatment (comment what it is, you’re not required to try to fix it)."
   ]
  },
  {
   "cell_type": "code",
   "execution_count": null,
   "metadata": {},
   "outputs": [],
   "source": [
    "data=fetch_california_housing()\n",
    "housing=pd.DataFrame(data['data'],columns=data['feature_names'])\n",
    "housing['target']=data['target']"
   ]
  },
  {
   "cell_type": "markdown",
   "metadata": {},
   "source": [
    "1.2 Visualize the dependency of the target on each feature (2d scatter plot)."
   ]
  },
  {
   "cell_type": "markdown",
   "metadata": {},
   "source": [
    "1.3 Split data in training and test set. Evaluate Linear Regression (OLS), Ridge, and Lasso using cross-validation with the default parameters. Does scaling the data with StandardScaler help?."
   ]
  },
  {
   "cell_type": "markdown",
   "metadata": {},
   "source": [
    "1.4 Tune the parameters of the models using GridSearchCV. Do the results improve? Visualize the dependence of the validation score on the parameters for Ridge and Lasso ElasticNet."
   ]
  },
  {
   "cell_type": "markdown",
   "metadata": {},
   "source": [
    "1.5 Visualize the coefficients of the resulting models. Do they agree on which features are important?"
   ]
  },
  {
   "cell_type": "code",
   "execution_count": null,
   "metadata": {},
   "outputs": [],
   "source": []
  }
 ],
 "metadata": {
  "kernelspec": {
   "display_name": "Python 3",
   "language": "python",
   "name": "python3"
  },
  "language_info": {
   "codemirror_mode": {
    "name": "ipython",
    "version": 3
   },
   "file_extension": ".py",
   "mimetype": "text/x-python",
   "name": "python",
   "nbconvert_exporter": "python",
   "pygments_lexer": "ipython3",
   "version": "3.8.3"
  }
 },
 "nbformat": 4,
 "nbformat_minor": 4
}
